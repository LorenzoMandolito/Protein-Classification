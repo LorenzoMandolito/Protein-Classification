{
 "cells": [
  {
   "cell_type": "code",
   "execution_count": null,
   "metadata": {
    "cell_id": "00000-7f7c3902-aa91-4740-917e-3e62eff1296e",
    "deepnote_cell_type": "code",
    "deepnote_to_be_reexecuted": false,
    "execution_millis": 1446,
    "execution_start": 1620830395335,
    "slideshow": {
     "slide_type": "skip"
    },
    "source_hash": "7b0384ac",
    "tags": []
   },
   "outputs": [
    {
     "data": {
      "application/vnd.jupyter.widget-view+json": {
       "model_id": "7a579e6a0223491da583b572cce0b953",
       "version_major": 2,
       "version_minor": 0
      },
      "text/plain": []
     },
     "metadata": {},
     "output_type": "display_data"
    }
   ],
   "source": [
    "import numpy as np\n",
    "from Bio.PDB import PDBList\n",
    "from pandas import DataFrame\n",
    "import requests, json\n",
    "import random\n",
    "import os #, os.path\n",
    "from biopandas.pdb import PandasPdb\n",
    "import sys\n",
    "from six.moves import urllib\n",
    "from numba import jit,float32\n",
    "from pathlib import Path\n",
    "import nglview as nv\n",
    "from matplotlib import pyplot as plt\n",
    "import plotly.graph_objects as go\n",
    "import pandas as pd\n",
    "import numpy as np\n",
    "import urllib\n",
    "import csv as cs\n",
    "import shutil as sht\n",
    "import glob as gbl"
   ]
  },
  {
   "cell_type": "markdown",
   "metadata": {
    "cell_id": "00001-f1198023-f319-41c6-91e0-e48db8a2566b",
    "deepnote_cell_type": "markdown",
    "slideshow": {
     "slide_type": "slide"
    },
    "tags": []
   },
   "source": [
    "# Protein classification using Gauss integral and Dscan \n",
    "- Lucia Depaoli\n",
    "- Alessandro Fella\n",
    "- Simone Mistrali\n",
    "- Lorenzo Mandolito\n",
    "   \n",
    "   \n"
   ]
  },
  {
   "cell_type": "markdown",
   "metadata": {
    "slideshow": {
     "slide_type": "slide"
    }
   },
   "source": [
    "## Introduction\n"
   ]
  },
  {
   "cell_type": "markdown",
   "metadata": {
    "slideshow": {
     "slide_type": "subslide"
    }
   },
   "source": [
    "Classify structure of proteins is an important task in biology. In particoular the secondary structure of a protein is determined by the geometric distribution of the amino acid residues. There are $2$ main secondary structures:\n",
    "\n",
    "\n",
    "\n"
   ]
  },
  {
   "cell_type": "markdown",
   "metadata": {
    "slideshow": {
     "slide_type": "subslide"
    }
   },
   "source": [
    "# <center>Alpha Helix</center>\n",
    "![](files/alpha_trasparent.png)"
   ]
  },
  {
   "cell_type": "markdown",
   "metadata": {},
   "source": [
    "# <center>Alpha Helix</center>\n",
    "![](files/beta_sheet.png)"
   ]
  },
  {
   "attachments": {},
   "cell_type": "markdown",
   "metadata": {
    "slideshow": {
     "slide_type": "subslide"
    }
   },
   "source": [
    "The chain of the carbon atoms $\\{C_{\\alpha}\\}_{\\alpha = 1 \\dots N}$ (where $N$ is the length of the protein), is the backbone of the geometrical structure of the protein.\n",
    "\n",
    "In this work we classify the structure of $20000$ protein. We get the coordinations of the $C_{\\alpha}$ from the [Protein Data Bank (PDB)](https://www.rcsb.org/).\n",
    "The main idea is to map the protein's geometry into a topological curve, this allows us to compute the Writhe $W_r$ over the polygonal obtained from the $C_{\\alpha}$ coordinates: \n",
    "\n",
    "$$\n",
    "I(i_1,i_2) = \\sum_{0 < i_1 < i_2 < N} W_r(i_1,i_2)\n",
    "$$\n",
    "\n",
    "**SPIEGARE WRITHE**"
   ]
  },
  {
   "cell_type": "markdown",
   "metadata": {
    "slideshow": {
     "slide_type": "subslide"
    }
   },
   "source": [
    "The computation of the Writhe yelds $14$ features that determine clusters of proteins,  \n",
    "\n",
    "We follow the classification convention of the [CATH](https://www.cathdb.info/) database, in which there are $6$ structures:\n",
    "\n",
    "\n",
    "**INSERIRE GRAFICI**\n"
   ]
  },
  {
   "cell_type": "code",
   "execution_count": 1,
   "metadata": {
    "cell_id": "00001-83d81659-2ce8-43c3-a5a3-6a33e4995a60",
    "deepnote_cell_type": "code",
    "deepnote_to_be_reexecuted": false,
    "execution_millis": 1145,
    "execution_start": 1620830397549,
    "slideshow": {
     "slide_type": "skip"
    },
    "source_hash": "38ee3a00",
    "tags": []
   },
   "outputs": [
    {
     "ename": "NameError",
     "evalue": "name 'pd' is not defined",
     "output_type": "error",
     "traceback": [
      "\u001b[1;31m---------------------------------------------------------------------------\u001b[0m",
      "\u001b[1;31mNameError\u001b[0m                                 Traceback (most recent call last)",
      "\u001b[1;32m<ipython-input-1-26e8c492bc13>\u001b[0m in \u001b[0;36m<module>\u001b[1;34m\u001b[0m\n\u001b[0;32m      1\u001b[0m \u001b[1;31m#Download protein's ID\u001b[0m\u001b[1;33m\u001b[0m\u001b[1;33m\u001b[0m\u001b[1;33m\u001b[0m\u001b[0m\n\u001b[1;32m----> 2\u001b[1;33m df = pd.read_csv(\"./CATH/cath-domain-list.txt\",skiprows=16,names=[\"CATH_ID\",\"Class_Number\",\"Architecture_number\",\"Topology_number\",\"Homologous_superfamily_number\",\n\u001b[0m\u001b[0;32m      3\u001b[0m                                                     \"S35\",\"S60\",\"S95\",\"S100_number\",\"S100_count\",\"Domain_length\",\"resolution\"],delim_whitespace=True)\n\u001b[0;32m      4\u001b[0m \u001b[0mdf_new\u001b[0m \u001b[1;33m=\u001b[0m \u001b[0mdf\u001b[0m\u001b[1;33m[\u001b[0m\u001b[0mdf\u001b[0m\u001b[1;33m.\u001b[0m\u001b[0mresolution\u001b[0m\u001b[1;33m!=\u001b[0m\u001b[1;36m1000\u001b[0m\u001b[1;33m]\u001b[0m\u001b[1;33m\u001b[0m\u001b[1;33m\u001b[0m\u001b[0m\n\u001b[0;32m      5\u001b[0m \u001b[0mdf_new\u001b[0m\u001b[1;33m[\u001b[0m\u001b[1;34m\"CATH_ID\"\u001b[0m\u001b[1;33m]\u001b[0m \u001b[1;33m=\u001b[0m \u001b[0mdf_new\u001b[0m\u001b[1;33m[\u001b[0m\u001b[1;34m\"CATH_ID\"\u001b[0m\u001b[1;33m]\u001b[0m\u001b[1;33m.\u001b[0m\u001b[0mmap\u001b[0m\u001b[1;33m(\u001b[0m\u001b[1;32mlambda\u001b[0m \u001b[0mx\u001b[0m\u001b[1;33m:\u001b[0m \u001b[0mstr\u001b[0m\u001b[1;33m(\u001b[0m\u001b[0mx\u001b[0m\u001b[1;33m)\u001b[0m\u001b[1;33m[\u001b[0m\u001b[1;33m:\u001b[0m\u001b[1;33m-\u001b[0m\u001b[1;36m3\u001b[0m\u001b[1;33m]\u001b[0m\u001b[1;33m)\u001b[0m\u001b[1;33m\u001b[0m\u001b[1;33m\u001b[0m\u001b[0m\n",
      "\u001b[1;31mNameError\u001b[0m: name 'pd' is not defined"
     ]
    }
   ],
   "source": [
    "#Download protein's ID\n",
    "df = pd.read_csv(\"./CATH/cath-domain-list.txt\",skiprows=16,names=[\"CATH_ID\",\"Class_Number\",\"Architecture_number\",\"Topology_number\",\"Homologous_superfamily_number\",\n",
    "                                                    \"S35\",\"S60\",\"S95\",\"S100_number\",\"S100_count\",\"Domain_length\",\"resolution\"],delim_whitespace=True)\n",
    "df_new = df[df.resolution!=1000]\n",
    "df_new[\"CATH_ID\"] = df_new[\"CATH_ID\"].map(lambda x: str(x)[:-3])\n",
    "df_new = df_new.drop_duplicates(\"CATH_ID\")\n",
    "cath_id = np.array(df_new[\"CATH_ID\"])\n",
    "df_new = df_new.set_index(np.arange(0,len(cath_id)))\n",
    "\n",
    "print(len(df_new))\n",
    "df_new=df_new.sort_values(by=['CATH_ID'],ignore_index=True)"
   ]
  },
  {
   "cell_type": "code",
   "execution_count": null,
   "metadata": {
    "cell_id": "00002-a0b915be-d883-4333-98f5-739169f05937",
    "deepnote_cell_type": "code",
    "deepnote_to_be_reexecuted": false,
    "execution_millis": 1,
    "execution_start": 1620830399055,
    "slideshow": {
     "slide_type": "skip"
    },
    "source_hash": "138a0283",
    "tags": []
   },
   "outputs": [],
   "source": [
    "# Download PDB file\n",
    "# PDBcode is the name of the protein\n",
    "\n",
    "def download_pdb(pdbcode, datadir, downloadurl=\"https://files.rcsb.org/download/\"):    \n",
    "    #os.mkdir('PDB')\n",
    "    pdbfn = pdbcode + \".pdb\"\n",
    "    url = downloadurl + pdbfn\n",
    "    outfnm = os.path.join(datadir, pdbfn)\n",
    "    try:\n",
    "        urllib.request.urlretrieve(url, outfnm)\n",
    "        return outfnm\n",
    "    except:\n",
    "        return None"
   ]
  },
  {
   "cell_type": "code",
   "execution_count": null,
   "metadata": {
    "cell_id": "00003-3101402f-2bd0-48e5-96bf-2c10f9bc5fc2",
    "deepnote_cell_type": "code",
    "deepnote_to_be_reexecuted": false,
    "execution_millis": 2,
    "execution_start": 1620830399691,
    "slideshow": {
     "slide_type": "skip"
    },
    "source_hash": "b961afe3",
    "tags": []
   },
   "outputs": [],
   "source": [
    "# Extract the x,y,z coordinates of the CA atoms for a given protein\n",
    "\n",
    "def get_coord(x):\n",
    "\n",
    "    try:\n",
    "        ppdb = PandasPdb().fetch_pdb(x.lower())\n",
    "        mainchain = ppdb.df['ATOM'][(ppdb.df['ATOM']['atom_name'] == 'CA')]\n",
    "\n",
    "        a = mainchain[['x_coord', 'y_coord', 'z_coord']]\n",
    "\n",
    "        N = len(a)\n",
    "        coord = np.zeros((N,3))\n",
    "        coord = np.array(a)\n",
    "\n",
    "        return coord\n",
    "    except AttributeError:\n",
    "        return int(0)"
   ]
  },
  {
   "cell_type": "code",
   "execution_count": null,
   "metadata": {
    "cell_id": "00004-20251555-3ab7-4ab7-9d56-20cde2f57251",
    "deepnote_cell_type": "code",
    "deepnote_to_be_reexecuted": false,
    "execution_millis": 0,
    "execution_start": 1620830401302,
    "slideshow": {
     "slide_type": "skip"
    },
    "source_hash": "56e3afd5",
    "tags": []
   },
   "outputs": [],
   "source": [
    "# Reject a protein if the number of missing CA atoms is >3\n",
    "\n",
    "def missing_atoms (inFile,h=3):\n",
    "\n",
    "    \"\"\"\n",
    "    Input inFile-> PDB File, h-> How much missing CA you allowed?\n",
    "    \"\"\"\n",
    "    c = 0\n",
    "    FLAG = False\n",
    "    # If j=TRUE the protein is ok\n",
    "    j = True\n",
    "    missing_atoms = [] \n",
    "    k = False\n",
    "    for line in inFile:\n",
    "        if FLAG==True and line.split()[1]=='470':\n",
    "            k = True\n",
    "            line[28:].replace('  ','   ')\n",
    "            atoms = line[28:].split('   ')\n",
    "            c += np.sum(np.char.count(atoms,\"CA\"))\n",
    "        if ['REMARK','470'] != line.split(' ')[0:2]:\n",
    "            FLAG = False\n",
    "        if 'REMARK 470   M RES CSSEQI  ATOMS' == line.strip():\n",
    "            FLAG = True\n",
    "            atoms = []\n",
    "        if c>h:\n",
    "            j = False\n",
    "            break\n",
    "        \n",
    "    return j"
   ]
  },
  {
   "cell_type": "code",
   "execution_count": null,
   "metadata": {
    "cell_id": "00005-7325b121-b643-47c9-8c5b-065f7f7f88ea",
    "deepnote_cell_type": "code",
    "deepnote_to_be_reexecuted": false,
    "execution_millis": 2,
    "execution_start": 1620830403309,
    "slideshow": {
     "slide_type": "skip"
    },
    "source_hash": "5b13f4b7",
    "tags": []
   },
   "outputs": [],
   "source": [
    "# Get coord of a protein and save it in a txt file inside /prot_coord\n",
    "\n",
    "def get_data(N):\n",
    "\n",
    "    unique_numbers = np.sort(random.sample(range(0, len(df_new[\"CATH_ID\"])),N+int(0.2*N)))\n",
    "    c = 0\n",
    "    cath_domain = []\n",
    "    prot_name = []\n",
    "    pdbl = PDBList()\n",
    "    if not os.path.exists(\"./prot_coord/\"):\n",
    "        os.makedirs(\"./prot_coord/\")\n",
    "    np.sort(df_new[\"CATH_ID\"])\n",
    "    for i in unique_numbers:\n",
    "        prot_name.append((df_new[\"CATH_ID\"][i]).lower())\n",
    "        j = df_new[\"CATH_ID\"][i]\n",
    "\n",
    "        download_pdb(j, 'PDB')\n",
    "        flag = missing_atoms(\"PDB/\" + j + \".pdb\")\n",
    " \n",
    "        if os.path.exists('./PDB/' + j + '.pdb') == True:\n",
    "            os.remove(\"PDB/\" + j + \".pdb\")  \n",
    "            \n",
    "        if flag == True:\n",
    "            coord = get_coord(j)\n",
    "            if type(coord)!= int:\n",
    "                np.savetxt(\"./prot_coord/\" + j + '.txt', coord)\n",
    "                c += 1\n",
    "                a=f\"{df_new['Class_Number'][i]}.{df_new['Architecture_number'][i]}.{df_new['Topology_number'][i]}.{df_new['Homologous_superfamily_number'][i]}\"\n",
    "                cath_domain.append(a)\n",
    "        if (c == N):\n",
    "            break\n",
    "        \n",
    "    #print(c)\n",
    "\n",
    "    return cath_domain"
   ]
  },
  {
   "cell_type": "code",
   "execution_count": null,
   "metadata": {
    "cell_id": "00006-eb7106a8-6925-41d5-b5d4-e7af00e55aed",
    "deepnote_cell_type": "code",
    "deepnote_to_be_reexecuted": false,
    "execution_millis": 4,
    "execution_start": 1620830405626,
    "source_hash": "c718771c",
    "tags": []
   },
   "outputs": [],
   "source": [
    "@jit(nopython=True)\n",
    "def tripleprod(a,b,c):\n",
    "    return a[0]*(b[1]*c[2]-b[2]*c[1])+a[1]*(b[2]*c[0]-b[0]*c[2])+a[2]*(b[0]*c[1]-b[1]*c[0])\n",
    "\n",
    "@jit(nopython=True)\n",
    "def dist(a):\n",
    "    return np.sqrt(a[1]**2 + a[0]**2 + a[2]**2)\n",
    "\n",
    "@jit(nopython=True)\n",
    "def writhe_matrix(M):\n",
    "\n",
    "    N    = M.shape[0]\n",
    "    W    = np.zeros((N-1,N-1))\n",
    "\n",
    "    for i in range(N-1):\n",
    "        dri  = M[i+1,:] - M[i,:]\n",
    "        drih = 0.5*(M[i+1,:] + M[i,:])\n",
    "        \n",
    "        for j in range(i+1,N-1):\n",
    "            drj = M[j+1,:] - M[j,:]\n",
    "            drij = 0.5*(M[j+1,:] + M[j,:]) - drih\n",
    "            \n",
    "            v = tripleprod(dri,drij,drj)\n",
    "            if(v!=0):\n",
    "                k = dist(drij)\n",
    "                k = k**3\n",
    "                W[i,j] = v/k\n",
    "    return W\n",
    "\n",
    "@jit(nopython=True)#,parallel=True)\n",
    "def create_I2(prot_coord):\n",
    "    W = writhe_matrix(prot_coord)\n",
    "\n",
    "    v = np.zeros(15)\n",
    "    N = len(W)\n",
    "    # Length of the protein\n",
    "    v[0] = N+1\n",
    "\n",
    "    for i in range(N-1):\n",
    "        for j in range(i+2,N-1):\n",
    "            # # I_()()\n",
    "            v[1] += W[i,j]\n",
    "            v[2] += abs(W[i,j])\n",
    "            v[3] += W[i,i+1]*W[j,j+1]\n",
    "            v[4] += abs(W[i,i+1])*W[j,j+1]\n",
    "            v[5] += W[i,i+1]*abs(W[j,j+1])\n",
    "            v[6] += abs(W[i,i+1]*W[j,j+1])\n",
    "    for i in range(N-2):\n",
    "        for j in range(i+3,N-2):\n",
    "\n",
    "            v[7] += W[i,i+2]*W[j,j+2]\n",
    "            v[8] += abs(W[i,i+2])*W[j,j+2]\n",
    "            v[9] += W[i,i+2]*abs(W[j,j+2])\n",
    "            v[10] += abs(W[i,i+2]*W[j,j+2])\n",
    "    for i in range(N-3):\n",
    "        for j in range(i+1,N-1):\n",
    "            v[11] += W[i,i+3]*W[j,j+1]\n",
    "            v[12] += abs(W[i,i+3])*W[j,j+1]\n",
    "            v[13] += W[i,i+3]*abs(W[j,j+1]) \n",
    "            v[14] += abs(W[i,i+3]*W[j,j+1])\n",
    "    v[1:2] /=v[0]   \n",
    "    v[3:N-1] /= v[0]**2\n",
    "    return v"
   ]
  },
  {
   "cell_type": "code",
   "execution_count": null,
   "metadata": {
    "cell_id": "00009-49b425ce-22f6-4d89-93d7-ff9be3ff1a24",
    "deepnote_cell_type": "code",
    "deepnote_to_be_reexecuted": false,
    "execution_millis": 6424678,
    "execution_start": 1620830416991,
    "source_hash": "84ea0fa2",
    "tags": []
   },
   "outputs": [
    {
     "name": "stdout",
     "output_type": "stream",
     "text": [
      "URL Error [Errno 110] Connection timed out\n",
      "URL Error [Errno 110] Connection timed out\n"
     ]
    }
   ],
   "source": [
    "cath_domain = np.array(get_data(20000))"
   ]
  },
  {
   "cell_type": "code",
   "execution_count": null,
   "metadata": {
    "cell_id": "00009-b9bf8ca7-acdd-4949-a354-8602ae9e7fe1",
    "deepnote_cell_type": "code",
    "deepnote_to_be_reexecuted": false,
    "execution_millis": 0,
    "execution_start": 1620836841670,
    "source_hash": "a947458d",
    "tags": []
   },
   "outputs": [],
   "source": [
    "f = open(\"./labels.txt\",\"a\")\n",
    "csvwriter = cs.writer(f,delimiter=\"\\n\") \n",
    "csvwriter.writerow(cath_domain)\n",
    "f.close()"
   ]
  },
  {
   "cell_type": "code",
   "execution_count": null,
   "metadata": {
    "cell_id": "00012-509f8329-714d-484b-bf43-1093dc3e21a6",
    "deepnote_cell_type": "code",
    "deepnote_to_be_reexecuted": false,
    "execution_millis": 133,
    "execution_start": 1620822430317,
    "source_hash": "7670f237",
    "tags": []
   },
   "outputs": [
    {
     "name": "stdout",
     "output_type": "stream",
     "text": [
      "['./prot_coord/1pye.txt', './prot_coord/3qrh.txt', './prot_coord/4iwf.txt', './prot_coord/4yu4.txt', './prot_coord/5e2t.txt']\n"
     ]
    }
   ],
   "source": [
    "directory = \"./prot_coord/\"\n",
    "dirout = \"./coord_done/\"\n",
    "files = sorted(glb.glob(directory + '*'))\n",
    "print(files)\n",
    "N_prot = len([name for name in os.listdir(directory)])\n",
    "\n",
    "cath_file = open(\"./labels.txt\",\"r\")\n",
    "cath_lines = cath_file.readlines()\n",
    "cath_domain = []\n",
    "for i in range(len(cath_domain)):\n",
    "    cath_domain.append(cath_domain[i][:-1])\n",
    "\n",
    "k=0\n",
    " \n",
    "for i in files:\n",
    "    if True:\n",
    "        f = open(\"./coord_prot.txt\",\"a\")\n",
    "        csvwriter = cs.writer(f) \n",
    "        prot_coord = np.genfromtxt(i,delimiter=' ')\n",
    "        v = create_I2(prot_coord)\n",
    "        xx = np.append(v,i[-8:-4])\n",
    "        vector = np.append(xx, cath_domain[k])\n",
    "        if os.path.exists('prot_coord/' + i[-8:-4]+ '.txt') == True:\n",
    "            sht.move(\"prot_coord/\"+i[-8:-4]+ \".txt\",dirout)\n",
    "        #    os.remove('prot_coord/' + i.stem+ '.txt')\n",
    "        csvwriter.writerow(vector)\n",
    "        f.close()\n",
    "        k +=1"
   ]
  },
  {
   "cell_type": "code",
   "execution_count": null,
   "metadata": {
    "cell_id": "00011-9b198d19-a82b-4a8d-901e-8ff112e5d5fb",
    "deepnote_cell_type": "code",
    "tags": []
   },
   "outputs": [],
   "source": []
  },
  {
   "cell_type": "markdown",
   "metadata": {
    "cell_id": "00010-61cd4865-47eb-41ba-a49a-69ce1284fb6c",
    "deepnote_cell_type": "markdown",
    "tags": []
   },
   "source": [
    "# Clustering and import dataframe"
   ]
  },
  {
   "cell_type": "code",
   "execution_count": null,
   "metadata": {
    "cell_id": "00009-f658e6ef-d911-4d29-a38c-a0838915915c",
    "deepnote_cell_type": "code",
    "deepnote_to_be_reexecuted": true,
    "execution_millis": 49,
    "execution_start": 1620046879603,
    "source_hash": "1d93e854",
    "tags": []
   },
   "outputs": [
    {
     "data": {
      "application/vnd.deepnote.dataframe.v2+json": {
       "column_count": 16,
       "columns": [
        {
         "dtype": "object",
         "name": "Prot_ID",
         "stats": {
          "categories": [
           {
            "count": 1,
            "name": "4e6c"
           },
           {
            "count": 1,
            "name": "4h3l"
           },
           {
            "count": 8,
            "name": "8 others"
           }
          ],
          "nan_count": 0,
          "unique_count": 10
         }
        },
        {
         "dtype": "object",
         "name": "CATH_ID",
         "stats": {
          "categories": [
           {
            "count": 2,
            "name": "1.10.510.10"
           },
           {
            "count": 1,
            "name": "2.60.40.420"
           },
           {
            "count": 7,
            "name": "7 others"
           }
          ],
          "nan_count": 0,
          "unique_count": 9
         }
        },
        {
         "dtype": "object",
         "name": "col1",
         "stats": {
          "categories": [
           {
            "count": 1,
            "name": "0.31170890231633136"
           },
           {
            "count": 1,
            "name": "-0.06987128082719947"
           },
           {
            "count": 8,
            "name": "8 others"
           }
          ],
          "nan_count": 0,
          "unique_count": 10
         }
        },
        {
         "dtype": "object",
         "name": "col3",
         "stats": {
          "categories": [
           {
            "count": 1,
            "name": "970.7036821630425"
           },
           {
            "count": 1,
            "name": "1529.6634498086748"
           },
           {
            "count": 8,
            "name": "8 others"
           }
          ],
          "nan_count": 0,
          "unique_count": 10
         }
        },
        {
         "dtype": "object",
         "name": "col4",
         "stats": {
          "categories": [
           {
            "count": 1,
            "name": "-7.802683381049346e-34"
           },
           {
            "count": 1,
            "name": "-6.874060150264086e-34"
           },
           {
            "count": 8,
            "name": "8 others"
           }
          ],
          "nan_count": 0,
          "unique_count": 10
         }
        },
        {
         "dtype": "object",
         "name": "col5",
         "stats": {
          "categories": [
           {
            "count": 1,
            "name": "5.0754300152735466e-33"
           },
           {
            "count": 1,
            "name": "-5.8611777833470474e-33"
           },
           {
            "count": 8,
            "name": "8 others"
           }
          ],
          "nan_count": 0,
          "unique_count": 10
         }
        },
        {
         "dtype": "object",
         "name": "col6",
         "stats": {
          "categories": [
           {
            "count": 1,
            "name": "-1.378227637779911e-32"
           },
           {
            "count": 1,
            "name": "1.3490763179712627e-34"
           },
           {
            "count": 8,
            "name": "8 others"
           }
          ],
          "nan_count": 0,
          "unique_count": 10
         }
        },
        {
         "dtype": "object",
         "name": "col7",
         "stats": {
          "categories": [
           {
            "count": 1,
            "name": "1.5390848207101003e-31"
           },
           {
            "count": 1,
            "name": "9.068034999444876e-32"
           },
           {
            "count": 8,
            "name": "8 others"
           }
          ],
          "nan_count": 0,
          "unique_count": 10
         }
        },
        {
         "dtype": "object",
         "name": "col8",
         "stats": {
          "categories": [
           {
            "count": 1,
            "name": "0.021203032430485637"
           },
           {
            "count": 1,
            "name": "0.00016935504491880025"
           },
           {
            "count": 8,
            "name": "8 others"
           }
          ],
          "nan_count": 0,
          "unique_count": 10
         }
        },
        {
         "dtype": "object",
         "name": "col9",
         "stats": {
          "categories": [
           {
            "count": 1,
            "name": "0.03511800918967349"
           },
           {
            "count": 1,
            "name": "0.0008859960602518361"
           },
           {
            "count": 8,
            "name": "8 others"
           }
          ],
          "nan_count": 0,
          "unique_count": 10
         }
        },
        {
         "dtype": "object",
         "name": "col10",
         "stats": {
          "categories": [
           {
            "count": 1,
            "name": "0.02876025303003601"
           },
           {
            "count": 1,
            "name": "0.0018191611946229444"
           },
           {
            "count": 8,
            "name": "8 others"
           }
          ],
          "nan_count": 0,
          "unique_count": 10
         }
        },
        {
         "dtype": "object",
         "name": "col11",
         "stats": {
          "categories": [
           {
            "count": 1,
            "name": "0.047784268776470205"
           },
           {
            "count": 1,
            "name": "0.007909638564233741"
           },
           {
            "count": 8,
            "name": "8 others"
           }
          ],
          "nan_count": 0,
          "unique_count": 10
         }
        },
        {
         "dtype": "object",
         "name": "col12",
         "stats": {
          "categories": [
           {
            "count": 1,
            "name": "1.074426449012204e-18"
           },
           {
            "count": 1,
            "name": "-2.707361811804631e-19"
           },
           {
            "count": 8,
            "name": "8 others"
           }
          ],
          "nan_count": 0,
          "unique_count": 10
         }
        },
        {
         "dtype": "object",
         "name": "col13",
         "stats": {
          "categories": [
           {
            "count": 1,
            "name": "1.5247979468656148e-18"
           },
           {
            "count": 1,
            "name": "-1.0004994733274613e-18"
           },
           {
            "count": 8,
            "name": "8 others"
           }
          ],
          "nan_count": 0,
          "unique_count": 10
         }
        },
        {
         "dtype": "object",
         "name": "col14",
         "stats": {
          "categories": [
           {
            "count": 1,
            "name": "3.8087129785954536e-17"
           },
           {
            "count": 1,
            "name": "4.185607173896433e-18"
           },
           {
            "count": 8,
            "name": "8 others"
           }
          ],
          "nan_count": 0,
          "unique_count": 10
         }
        },
        {
         "dtype": "object",
         "name": "col15",
         "stats": {
          "categories": [
           {
            "count": 1,
            "name": "5.3110140700097075e-17"
           },
           {
            "count": 1,
            "name": "1.784480083208429e-17"
           },
           {
            "count": 8,
            "name": "8 others"
           }
          ],
          "nan_count": 0,
          "unique_count": 10
         }
        },
        {
         "dtype": "int64",
         "name": "_deepnote_index_column"
        }
       ],
       "row_count": 10,
       "rows_bottom": null,
       "rows_top": [
        {
         "CATH_ID": "2.60.40.420",
         "Prot_ID": "4e6c",
         "_deepnote_index_column": 0,
         "col1": "0.31170890231633136",
         "col10": "0.02876025303003601",
         "col11": "0.047784268776470205",
         "col12": "1.074426449012204e-18",
         "col13": "1.5247979468656148e-18",
         "col14": "3.8087129785954536e-17",
         "col15": "5.3110140700097075e-17",
         "col3": "970.7036821630425",
         "col4": "-7.802683381049346e-34",
         "col5": "5.0754300152735466e-33",
         "col6": "-1.378227637779911e-32",
         "col7": "1.5390848207101003e-31",
         "col8": "0.021203032430485637",
         "col9": "0.03511800918967349"
        },
        {
         "CATH_ID": "2.70.240.10",
         "Prot_ID": "4h3l",
         "_deepnote_index_column": 1,
         "col1": "-0.06987128082719947",
         "col10": "0.0018191611946229444",
         "col11": "0.007909638564233741",
         "col12": "-2.707361811804631e-19",
         "col13": "-1.0004994733274613e-18",
         "col14": "4.185607173896433e-18",
         "col15": "1.784480083208429e-17",
         "col3": "1529.6634498086748",
         "col4": "-6.874060150264086e-34",
         "col5": "-5.8611777833470474e-33",
         "col6": "1.3490763179712627e-34",
         "col7": "9.068034999444876e-32",
         "col8": "0.00016935504491880025",
         "col9": "0.0008859960602518361"
        },
        {
         "CATH_ID": "1.20.90.10",
         "Prot_ID": "3ac3",
         "_deepnote_index_column": 2,
         "col1": "0.2831581092554254",
         "col10": "0.030407921202131098",
         "col11": "0.049219861242423474",
         "col12": "1.0152979687436846e-18",
         "col13": "1.4668722238069115e-18",
         "col14": "3.180388595812096e-17",
         "col15": "4.7584464420389095e-17",
         "col3": "756.9497344371681",
         "col4": "-5.295807917016563e-34",
         "col5": "2.6854372109298996e-33",
         "col6": "4.2314796070933994e-33",
         "col7": "8.4197197948259e-32",
         "col8": "0.021153818308886355",
         "col9": "0.03438771814382156"
        },
        {
         "CATH_ID": "1.10.510.10",
         "Prot_ID": "3m2l",
         "_deepnote_index_column": 3,
         "col1": "0.03752371617874254",
         "col10": "0.0008919929896230547",
         "col11": "0.007327883865143657",
         "col12": "-5.575374239757695e-19",
         "col13": "-1.9786619824824644e-18",
         "col14": "1.1265618082244871e-17",
         "col15": "4.0192738222922006e-17",
         "col3": "11456.246278022569",
         "col4": "-8.071583153642754e-34",
         "col5": "-3.269629502155907e-32",
         "col6": "2.353403730124066e-32",
         "col7": "6.269843144896139e-31",
         "col8": "8.976826932125887e-05",
         "col9": "0.0008079379941605582"
        },
        {
         "CATH_ID": "3.40.190.170",
         "Prot_ID": "1zm6",
         "_deepnote_index_column": 4,
         "col1": "0.44265170175243895",
         "col10": "0.03958502225916297",
         "col11": "0.05138192685087395",
         "col12": "-1.8309250637265522e-17",
         "col13": "-2.2623777816881e-17",
         "col14": "1.1884488640995558e-16",
         "col15": "1.4499899630153386e-16",
         "col3": "282.7885389978563",
         "col4": "4.5421679509897295e-33",
         "col5": "-8.776845750012064e-32",
         "col6": "-6.711740790818252e-32",
         "col7": "5.595656849086856e-31",
         "col8": "0.029011949122978248",
         "col9": "0.03799443846086699"
        },
        {
         "CATH_ID": "1.10.1280.10",
         "Prot_ID": "5yz2",
         "_deepnote_index_column": 5,
         "col1": "0.2862812207134009",
         "col10": "0.027915451017340297",
         "col11": "0.045729049357347666",
         "col12": "-7.44967431611535e-18",
         "col13": "-1.0051962948960188e-17",
         "col14": "3.835864415480682e-17",
         "col15": "5.205618941232092e-17",
         "col3": "700.564432243557",
         "col4": "1.4766830410893608e-33",
         "col5": "-2.3897725508260352e-32",
         "col6": "-1.0740875161831352e-32",
         "col7": "1.279364981819615e-31",
         "col8": "0.01819829064224846",
         "col9": "0.03005014829940321"
        },
        {
         "CATH_ID": "3.90.1280.20",
         "Prot_ID": "4yvn",
         "_deepnote_index_column": 6,
         "col1": "-0.05032268998153673",
         "col10": "0.00021045350468780653",
         "col11": "0.011689276553014584",
         "col12": "7.147093099472656e-19",
         "col13": "3.0946161375194214e-18",
         "col14": "5.9887954381762166e-18",
         "col15": "3.422388545943732e-17",
         "col3": "1775.6608475258383",
         "col4": "5.222911480476184e-34",
         "col5": "2.4947015390396386e-32",
         "col6": "1.4536229029558203e-32",
         "col7": "2.5377809670419936e-31",
         "col8": "-5.170978818689113e-05",
         "col9": "0.000829154154991652"
        },
        {
         "CATH_ID": "2.60.40.10",
         "Prot_ID": "4oly",
         "_deepnote_index_column": 7,
         "col1": "0.02287596866986343",
         "col10": "0.004607656904906246",
         "col11": "0.013089717780132308",
         "col12": "6.024819551725577e-19",
         "col13": "1.0045148091802082e-18",
         "col14": "2.065796467750156e-17",
         "col15": "3.853673601490669e-17",
         "col3": "2850.061013764802",
         "col4": "-3.7208772595654093e-34",
         "col5": "3.293649045617011e-33",
         "col6": "9.302295965603191e-33",
         "col7": "1.865349885191297e-31",
         "col8": "0.0008130413698058238",
         "col9": "0.0021652954588814825"
        },
        {
         "CATH_ID": "2.40.155.10",
         "Prot_ID": "5i3b",
         "_deepnote_index_column": 8,
         "col1": "0.4953225453439254",
         "col10": "0.041047208849554796",
         "col11": "0.056523133620109065",
         "col12": "1.4648034894237215e-18",
         "col13": "1.9403048739874575e-18",
         "col14": "1.7667528277997865e-16",
         "col15": "2.4274827881128203e-16",
         "col3": "2209.333140175661",
         "col4": "-4.0265299153152926e-33",
         "col5": "1.3567509144818886e-32",
         "col6": "4.1409051498619983e-32",
         "col7": "1.7428289399951667e-30",
         "col8": "0.02910840194126128",
         "col9": "0.0401661144893178"
        },
        {
         "CATH_ID": "1.10.510.10",
         "Prot_ID": "4mni",
         "_deepnote_index_column": 9,
         "col1": "0.5123926935836013",
         "col10": "0.037088246384934236",
         "col11": "0.05147173064987358",
         "col12": "-9.331182319004407e-18",
         "col13": "-1.2401944130514632e-17",
         "col14": "7.861644411569416e-17",
         "col15": "9.820481216523522e-17",
         "col3": "935.162875732013",
         "col4": "5.060808064182276e-33",
         "col5": "-6.026706437854155e-32",
         "col6": "-5.371104541159205e-32",
         "col7": "4.321098361918788e-31",
         "col8": "0.029703459675011173",
         "col9": "0.041231171679006653"
        }
       ]
      },
      "text/html": [
       "<div>\n",
       "<style scoped>\n",
       "    .dataframe tbody tr th:only-of-type {\n",
       "        vertical-align: middle;\n",
       "    }\n",
       "\n",
       "    .dataframe tbody tr th {\n",
       "        vertical-align: top;\n",
       "    }\n",
       "\n",
       "    .dataframe thead th {\n",
       "        text-align: right;\n",
       "    }\n",
       "</style>\n",
       "<table border=\"1\" class=\"dataframe\">\n",
       "  <thead>\n",
       "    <tr style=\"text-align: right;\">\n",
       "      <th></th>\n",
       "      <th>Prot_ID</th>\n",
       "      <th>CATH_ID</th>\n",
       "      <th>col1</th>\n",
       "      <th>col3</th>\n",
       "      <th>col4</th>\n",
       "      <th>col5</th>\n",
       "      <th>col6</th>\n",
       "      <th>col7</th>\n",
       "      <th>col8</th>\n",
       "      <th>col9</th>\n",
       "      <th>col10</th>\n",
       "      <th>col11</th>\n",
       "      <th>col12</th>\n",
       "      <th>col13</th>\n",
       "      <th>col14</th>\n",
       "      <th>col15</th>\n",
       "    </tr>\n",
       "  </thead>\n",
       "  <tbody>\n",
       "    <tr>\n",
       "      <th>0</th>\n",
       "      <td>4e6c</td>\n",
       "      <td>2.60.40.420</td>\n",
       "      <td>0.31170890231633136</td>\n",
       "      <td>970.7036821630425</td>\n",
       "      <td>-7.802683381049346e-34</td>\n",
       "      <td>5.0754300152735466e-33</td>\n",
       "      <td>-1.378227637779911e-32</td>\n",
       "      <td>1.5390848207101003e-31</td>\n",
       "      <td>0.021203032430485637</td>\n",
       "      <td>0.03511800918967349</td>\n",
       "      <td>0.02876025303003601</td>\n",
       "      <td>0.047784268776470205</td>\n",
       "      <td>1.074426449012204e-18</td>\n",
       "      <td>1.5247979468656148e-18</td>\n",
       "      <td>3.8087129785954536e-17</td>\n",
       "      <td>5.3110140700097075e-17</td>\n",
       "    </tr>\n",
       "    <tr>\n",
       "      <th>1</th>\n",
       "      <td>4h3l</td>\n",
       "      <td>2.70.240.10</td>\n",
       "      <td>-0.06987128082719947</td>\n",
       "      <td>1529.6634498086748</td>\n",
       "      <td>-6.874060150264086e-34</td>\n",
       "      <td>-5.8611777833470474e-33</td>\n",
       "      <td>1.3490763179712627e-34</td>\n",
       "      <td>9.068034999444876e-32</td>\n",
       "      <td>0.00016935504491880025</td>\n",
       "      <td>0.0008859960602518361</td>\n",
       "      <td>0.0018191611946229444</td>\n",
       "      <td>0.007909638564233741</td>\n",
       "      <td>-2.707361811804631e-19</td>\n",
       "      <td>-1.0004994733274613e-18</td>\n",
       "      <td>4.185607173896433e-18</td>\n",
       "      <td>1.784480083208429e-17</td>\n",
       "    </tr>\n",
       "    <tr>\n",
       "      <th>2</th>\n",
       "      <td>3ac3</td>\n",
       "      <td>1.20.90.10</td>\n",
       "      <td>0.2831581092554254</td>\n",
       "      <td>756.9497344371681</td>\n",
       "      <td>-5.295807917016563e-34</td>\n",
       "      <td>2.6854372109298996e-33</td>\n",
       "      <td>4.2314796070933994e-33</td>\n",
       "      <td>8.4197197948259e-32</td>\n",
       "      <td>0.021153818308886355</td>\n",
       "      <td>0.03438771814382156</td>\n",
       "      <td>0.030407921202131098</td>\n",
       "      <td>0.049219861242423474</td>\n",
       "      <td>1.0152979687436846e-18</td>\n",
       "      <td>1.4668722238069115e-18</td>\n",
       "      <td>3.180388595812096e-17</td>\n",
       "      <td>4.7584464420389095e-17</td>\n",
       "    </tr>\n",
       "    <tr>\n",
       "      <th>3</th>\n",
       "      <td>3m2l</td>\n",
       "      <td>1.10.510.10</td>\n",
       "      <td>0.03752371617874254</td>\n",
       "      <td>11456.246278022569</td>\n",
       "      <td>-8.071583153642754e-34</td>\n",
       "      <td>-3.269629502155907e-32</td>\n",
       "      <td>2.353403730124066e-32</td>\n",
       "      <td>6.269843144896139e-31</td>\n",
       "      <td>8.976826932125887e-05</td>\n",
       "      <td>0.0008079379941605582</td>\n",
       "      <td>0.0008919929896230547</td>\n",
       "      <td>0.007327883865143657</td>\n",
       "      <td>-5.575374239757695e-19</td>\n",
       "      <td>-1.9786619824824644e-18</td>\n",
       "      <td>1.1265618082244871e-17</td>\n",
       "      <td>4.0192738222922006e-17</td>\n",
       "    </tr>\n",
       "    <tr>\n",
       "      <th>4</th>\n",
       "      <td>1zm6</td>\n",
       "      <td>3.40.190.170</td>\n",
       "      <td>0.44265170175243895</td>\n",
       "      <td>282.7885389978563</td>\n",
       "      <td>4.5421679509897295e-33</td>\n",
       "      <td>-8.776845750012064e-32</td>\n",
       "      <td>-6.711740790818252e-32</td>\n",
       "      <td>5.595656849086856e-31</td>\n",
       "      <td>0.029011949122978248</td>\n",
       "      <td>0.03799443846086699</td>\n",
       "      <td>0.03958502225916297</td>\n",
       "      <td>0.05138192685087395</td>\n",
       "      <td>-1.8309250637265522e-17</td>\n",
       "      <td>-2.2623777816881e-17</td>\n",
       "      <td>1.1884488640995558e-16</td>\n",
       "      <td>1.4499899630153386e-16</td>\n",
       "    </tr>\n",
       "    <tr>\n",
       "      <th>5</th>\n",
       "      <td>5yz2</td>\n",
       "      <td>1.10.1280.10</td>\n",
       "      <td>0.2862812207134009</td>\n",
       "      <td>700.564432243557</td>\n",
       "      <td>1.4766830410893608e-33</td>\n",
       "      <td>-2.3897725508260352e-32</td>\n",
       "      <td>-1.0740875161831352e-32</td>\n",
       "      <td>1.279364981819615e-31</td>\n",
       "      <td>0.01819829064224846</td>\n",
       "      <td>0.03005014829940321</td>\n",
       "      <td>0.027915451017340297</td>\n",
       "      <td>0.045729049357347666</td>\n",
       "      <td>-7.44967431611535e-18</td>\n",
       "      <td>-1.0051962948960188e-17</td>\n",
       "      <td>3.835864415480682e-17</td>\n",
       "      <td>5.205618941232092e-17</td>\n",
       "    </tr>\n",
       "    <tr>\n",
       "      <th>6</th>\n",
       "      <td>4yvn</td>\n",
       "      <td>3.90.1280.20</td>\n",
       "      <td>-0.05032268998153673</td>\n",
       "      <td>1775.6608475258383</td>\n",
       "      <td>5.222911480476184e-34</td>\n",
       "      <td>2.4947015390396386e-32</td>\n",
       "      <td>1.4536229029558203e-32</td>\n",
       "      <td>2.5377809670419936e-31</td>\n",
       "      <td>-5.170978818689113e-05</td>\n",
       "      <td>0.000829154154991652</td>\n",
       "      <td>0.00021045350468780653</td>\n",
       "      <td>0.011689276553014584</td>\n",
       "      <td>7.147093099472656e-19</td>\n",
       "      <td>3.0946161375194214e-18</td>\n",
       "      <td>5.9887954381762166e-18</td>\n",
       "      <td>3.422388545943732e-17</td>\n",
       "    </tr>\n",
       "    <tr>\n",
       "      <th>7</th>\n",
       "      <td>4oly</td>\n",
       "      <td>2.60.40.10</td>\n",
       "      <td>0.02287596866986343</td>\n",
       "      <td>2850.061013764802</td>\n",
       "      <td>-3.7208772595654093e-34</td>\n",
       "      <td>3.293649045617011e-33</td>\n",
       "      <td>9.302295965603191e-33</td>\n",
       "      <td>1.865349885191297e-31</td>\n",
       "      <td>0.0008130413698058238</td>\n",
       "      <td>0.0021652954588814825</td>\n",
       "      <td>0.004607656904906246</td>\n",
       "      <td>0.013089717780132308</td>\n",
       "      <td>6.024819551725577e-19</td>\n",
       "      <td>1.0045148091802082e-18</td>\n",
       "      <td>2.065796467750156e-17</td>\n",
       "      <td>3.853673601490669e-17</td>\n",
       "    </tr>\n",
       "    <tr>\n",
       "      <th>8</th>\n",
       "      <td>5i3b</td>\n",
       "      <td>2.40.155.10</td>\n",
       "      <td>0.4953225453439254</td>\n",
       "      <td>2209.333140175661</td>\n",
       "      <td>-4.0265299153152926e-33</td>\n",
       "      <td>1.3567509144818886e-32</td>\n",
       "      <td>4.1409051498619983e-32</td>\n",
       "      <td>1.7428289399951667e-30</td>\n",
       "      <td>0.02910840194126128</td>\n",
       "      <td>0.0401661144893178</td>\n",
       "      <td>0.041047208849554796</td>\n",
       "      <td>0.056523133620109065</td>\n",
       "      <td>1.4648034894237215e-18</td>\n",
       "      <td>1.9403048739874575e-18</td>\n",
       "      <td>1.7667528277997865e-16</td>\n",
       "      <td>2.4274827881128203e-16</td>\n",
       "    </tr>\n",
       "    <tr>\n",
       "      <th>9</th>\n",
       "      <td>4mni</td>\n",
       "      <td>1.10.510.10</td>\n",
       "      <td>0.5123926935836013</td>\n",
       "      <td>935.162875732013</td>\n",
       "      <td>5.060808064182276e-33</td>\n",
       "      <td>-6.026706437854155e-32</td>\n",
       "      <td>-5.371104541159205e-32</td>\n",
       "      <td>4.321098361918788e-31</td>\n",
       "      <td>0.029703459675011173</td>\n",
       "      <td>0.041231171679006653</td>\n",
       "      <td>0.037088246384934236</td>\n",
       "      <td>0.05147173064987358</td>\n",
       "      <td>-9.331182319004407e-18</td>\n",
       "      <td>-1.2401944130514632e-17</td>\n",
       "      <td>7.861644411569416e-17</td>\n",
       "      <td>9.820481216523522e-17</td>\n",
       "    </tr>\n",
       "  </tbody>\n",
       "</table>\n",
       "</div>"
      ],
      "text/plain": [
       "  Prot_ID       CATH_ID                  col1                col3  \\\n",
       "0    4e6c   2.60.40.420   0.31170890231633136   970.7036821630425   \n",
       "1    4h3l   2.70.240.10  -0.06987128082719947  1529.6634498086748   \n",
       "2    3ac3    1.20.90.10    0.2831581092554254   756.9497344371681   \n",
       "3    3m2l   1.10.510.10   0.03752371617874254  11456.246278022569   \n",
       "4    1zm6  3.40.190.170   0.44265170175243895   282.7885389978563   \n",
       "5    5yz2  1.10.1280.10    0.2862812207134009    700.564432243557   \n",
       "6    4yvn  3.90.1280.20  -0.05032268998153673  1775.6608475258383   \n",
       "7    4oly    2.60.40.10   0.02287596866986343   2850.061013764802   \n",
       "8    5i3b   2.40.155.10    0.4953225453439254   2209.333140175661   \n",
       "9    4mni   1.10.510.10    0.5123926935836013    935.162875732013   \n",
       "\n",
       "                      col4                     col5                     col6  \\\n",
       "0   -7.802683381049346e-34   5.0754300152735466e-33   -1.378227637779911e-32   \n",
       "1   -6.874060150264086e-34  -5.8611777833470474e-33   1.3490763179712627e-34   \n",
       "2   -5.295807917016563e-34   2.6854372109298996e-33   4.2314796070933994e-33   \n",
       "3   -8.071583153642754e-34   -3.269629502155907e-32    2.353403730124066e-32   \n",
       "4   4.5421679509897295e-33   -8.776845750012064e-32   -6.711740790818252e-32   \n",
       "5   1.4766830410893608e-33  -2.3897725508260352e-32  -1.0740875161831352e-32   \n",
       "6    5.222911480476184e-34   2.4947015390396386e-32   1.4536229029558203e-32   \n",
       "7  -3.7208772595654093e-34    3.293649045617011e-33    9.302295965603191e-33   \n",
       "8  -4.0265299153152926e-33   1.3567509144818886e-32   4.1409051498619983e-32   \n",
       "9    5.060808064182276e-33   -6.026706437854155e-32   -5.371104541159205e-32   \n",
       "\n",
       "                     col7                    col8                   col9  \\\n",
       "0  1.5390848207101003e-31    0.021203032430485637    0.03511800918967349   \n",
       "1   9.068034999444876e-32  0.00016935504491880025  0.0008859960602518361   \n",
       "2     8.4197197948259e-32    0.021153818308886355    0.03438771814382156   \n",
       "3   6.269843144896139e-31   8.976826932125887e-05  0.0008079379941605582   \n",
       "4   5.595656849086856e-31    0.029011949122978248    0.03799443846086699   \n",
       "5   1.279364981819615e-31     0.01819829064224846    0.03005014829940321   \n",
       "6  2.5377809670419936e-31  -5.170978818689113e-05   0.000829154154991652   \n",
       "7   1.865349885191297e-31   0.0008130413698058238  0.0021652954588814825   \n",
       "8  1.7428289399951667e-30     0.02910840194126128     0.0401661144893178   \n",
       "9   4.321098361918788e-31    0.029703459675011173   0.041231171679006653   \n",
       "\n",
       "                    col10                 col11                    col12  \\\n",
       "0     0.02876025303003601  0.047784268776470205    1.074426449012204e-18   \n",
       "1   0.0018191611946229444  0.007909638564233741   -2.707361811804631e-19   \n",
       "2    0.030407921202131098  0.049219861242423474   1.0152979687436846e-18   \n",
       "3   0.0008919929896230547  0.007327883865143657   -5.575374239757695e-19   \n",
       "4     0.03958502225916297   0.05138192685087395  -1.8309250637265522e-17   \n",
       "5    0.027915451017340297  0.045729049357347666    -7.44967431611535e-18   \n",
       "6  0.00021045350468780653  0.011689276553014584    7.147093099472656e-19   \n",
       "7    0.004607656904906246  0.013089717780132308    6.024819551725577e-19   \n",
       "8    0.041047208849554796  0.056523133620109065   1.4648034894237215e-18   \n",
       "9    0.037088246384934236   0.05147173064987358   -9.331182319004407e-18   \n",
       "\n",
       "                     col13                   col14                   col15  \n",
       "0   1.5247979468656148e-18  3.8087129785954536e-17  5.3110140700097075e-17  \n",
       "1  -1.0004994733274613e-18   4.185607173896433e-18   1.784480083208429e-17  \n",
       "2   1.4668722238069115e-18   3.180388595812096e-17  4.7584464420389095e-17  \n",
       "3  -1.9786619824824644e-18  1.1265618082244871e-17  4.0192738222922006e-17  \n",
       "4     -2.2623777816881e-17  1.1884488640995558e-16  1.4499899630153386e-16  \n",
       "5  -1.0051962948960188e-17   3.835864415480682e-17   5.205618941232092e-17  \n",
       "6   3.0946161375194214e-18  5.9887954381762166e-18   3.422388545943732e-17  \n",
       "7   1.0045148091802082e-18   2.065796467750156e-17   3.853673601490669e-17  \n",
       "8   1.9403048739874575e-18  1.7667528277997865e-16  2.4274827881128203e-16  \n",
       "9  -1.2401944130514632e-17   7.861644411569416e-17   9.820481216523522e-17  "
      ]
     },
     "execution_count": 90,
     "metadata": {},
     "output_type": "execute_result"
    }
   ],
   "source": [
    "data_to_append = {}\n",
    "df_ = pd.DataFrame(columns=['Prot_ID', 'CATH_ID', 'col1', 'col1', 'col3', 'col4', 'col5', 'col6', \n",
    "'col7','col8', 'col9', 'col10', 'col11','col12', 'col13', 'col14', \"col15\"])\n",
    "\n",
    "for j in range(len(features)):\n",
    "    data_to_append[j] = {}\n",
    "    for i in range(len(df_.columns)):\n",
    "        data_to_append[j][df_.columns[i]] =features[j,i]\n",
    "data = pd.DataFrame(data_to_append).T"
   ]
  },
  {
   "cell_type": "markdown",
   "metadata": {
    "cell_id": "00010-fadcdd76-0898-446f-a2de-712d3b0f5e13",
    "deepnote_cell_type": "markdown",
    "tags": []
   },
   "source": [
    "### Check if create_I2 is meaningful\n"
   ]
  },
  {
   "cell_type": "code",
   "execution_count": null,
   "metadata": {
    "cell_id": "00010-26e17ebf-d96d-48de-b26d-5693a1129bb2",
    "deepnote_cell_type": "code",
    "deepnote_to_be_reexecuted": false,
    "execution_millis": 12019,
    "execution_start": 1620207820096,
    "source_hash": "38d0c954",
    "tags": []
   },
   "outputs": [
    {
     "data": {
      "text/plain": [
       "array([10000.,     0.,     0.,     0.,     0.,     0.,     0.,     0.,\n",
       "           0.,     0.,     0.,     0.,     0.,     0.,     0.])"
      ]
     },
     "execution_count": 23,
     "metadata": {},
     "output_type": "execute_result"
    }
   ],
   "source": [
    "#with a straight line\n",
    "\n",
    "n = 10000\n",
    "t_max = 16 * np.pi\n",
    "t = np.linspace(0, t_max, n)\n",
    "\n",
    "line = np.zeros((n,3))\n",
    "line[:,0]=t\n",
    "line[:,1]=t\n",
    "line[:,2]=t\n",
    "\n",
    "v_1=create_I2(line)\n",
    "v_1"
   ]
  },
  {
   "cell_type": "code",
   "execution_count": null,
   "metadata": {
    "cell_id": "00010-298b06d3-647c-483e-a094-53d1b96379cc",
    "deepnote_cell_type": "code",
    "deepnote_to_be_reexecuted": false,
    "execution_millis": 22280,
    "execution_start": 1620207837879,
    "source_hash": "7fbc049d",
    "tags": []
   },
   "outputs": [],
   "source": [
    "#with a helix\n",
    "\n",
    "num = [100,150, 200, 300, 500, 750, 1000, 1700, 2000, 3000, 5000, 7000, 10000]\n",
    "v = []\n",
    "for i in num:\n",
    "    t = np.linspace(0, t_max, i)\n",
    "\n",
    "    x = np.cos(t)\n",
    "    y = np.sin(t)\n",
    "    z = t\n",
    "\n",
    "    helix = np.zeros((i,3))\n",
    "    helix[:,0]=x[:]\n",
    "    helix[:,1]=y[:]\n",
    "    helix[:,2]=z[:]\n",
    "    helix\n",
    "    v1=create_I2(helix)\n",
    "    v.append(v1[2])"
   ]
  },
  {
   "cell_type": "code",
   "execution_count": null,
   "metadata": {
    "cell_id": "00014-6fdd8bd6-a0c2-4beb-b331-6f917a3e472a",
    "deepnote_cell_type": "code",
    "deepnote_to_be_reexecuted": false,
    "execution_millis": 322,
    "execution_start": 1620207912325,
    "source_hash": "63c8c8b4",
    "tags": []
   },
   "outputs": [
    {
     "data": {
      "image/png": "[encoded data removed]",
      "text/plain": [
       "<Figure size 1152x720 with 2 Axes>"
      ]
     },
     "metadata": {
      "image/png": {
       "height": 639,
       "width": 959
      }
     },
     "output_type": "display_data"
    }
   ],
   "source": [
    "plt.figure(figsize=(16,10))\n",
    "plt.plot(num, v,\"--b\")\n",
    "plt.scatter(num,v,marker = \"o\", s =50, c = \"r\")\n",
    "plt.title(\"Avarege crossing number vs Number of points\\n\",fontsize=20)\n",
    "plt.style.use('seaborn-ticks')\n",
    "ax = plt.axes()\n",
    "ax.set_facecolor(\"whitesmoke\")\n",
    "plt.xlabel(\"Number of points\",fontsize=15)\n",
    "plt.ylabel(\"Avarege crossing number\",fontsize=15)\n",
    "plt.grid()\n",
    "plt.show()"
   ]
  },
  {
   "cell_type": "code",
   "execution_count": null,
   "metadata": {
    "cell_id": "00017-1e1bd7a7-0561-4fd6-bb84-da13d9964550",
    "deepnote_cell_type": "code",
    "deepnote_to_be_reexecuted": true,
    "execution_millis": 9,
    "execution_start": 1620056092503,
    "source_hash": "29b6956a",
    "tags": []
   },
   "outputs": [
    {
     "data": {
      "text/plain": [
       "10000.0"
      ]
     },
     "execution_count": 107,
     "metadata": {},
     "output_type": "execute_result"
    }
   ],
   "source": [
    "0.5*20000"
   ]
  },
  {
   "cell_type": "code",
   "execution_count": null,
   "metadata": {
    "cell_id": "00018-396d3134-06fa-4bae-ad46-7c000fb35c37",
    "deepnote_cell_type": "code",
    "deepnote_to_be_reexecuted": true,
    "source_hash": "b623e53d",
    "tags": []
   },
   "outputs": [],
   "source": [
    "x=np.loadtxt(\"prot_coord/2www.txt\", delimiter=\" \")\n",
    "x_p=x[:,0] \n",
    "y_p=x[:,1]\n",
    "z_p=x[:,2]\n",
    "\n",
    "fig = go.Figure(data=go.Scatter3d(\n",
    "    x=x_p, y=y_p, z=z_p,\n",
    "    marker=dict(\n",
    "        size=3,\n",
    "        color=z_p,\n",
    "        colorscale='icefire',\n",
    "    ),\n",
    "    line=dict(\n",
    "        color='darkblue',\n",
    "        width=3\n",
    "    )\n",
    "))\n",
    "\n",
    "fig.update_layout(\n",
    "    width=800,\n",
    "    height=700,\n",
    "    autosize=False,\n",
    "    scene=dict(\n",
    "        camera=dict(\n",
    "            up=dict(\n",
    "                x=0,\n",
    "                y=0,\n",
    "                z=1\n",
    "            ),\n",
    "            eye=dict(\n",
    "                x=0,\n",
    "                y=1.0707,\n",
    "                z=1,\n",
    "            )\n",
    "        ),\n",
    "        aspectratio = dict( x=1, y=1, z=0.7 ),\n",
    "        aspectmode = 'manual'\n",
    "    ),\n",
    ")\n",
    "\n",
    "fig.show() "
   ]
  },
  {
   "cell_type": "markdown",
   "metadata": {
    "created_in_deepnote_cell": true,
    "deepnote_cell_type": "markdown",
    "tags": []
   },
   "source": [
    "<a style='text-decoration:none;line-height:16px;display:flex;color:#5B5B62;padding:10px;justify-content:end;' href='https://deepnote.com?utm_source=created-in-deepnote-cell&projectId=deb3820e-5638-4932-87bf-a276194132a2' target=\"_blank\">\n",
    "<img alt='Created in deepnote.com' style='display:inline;max-height:16px;margin:0px;margin-right:7.5px;' src='data:image/svg+xml;base64,PD94bWwgdmVyc2lvbj0iMS4wIiBlbmNvZGluZz0iVVRGLTgiPz4KPHN2ZyB3aWR0aD0iODBweCIgaGVpZ2h0PSI4MHB4IiB2aWV3Qm94PSIwIDAgODAgODAiIHZlcnNpb249IjEuMSIgeG1sbnM9Imh0dHA6Ly93d3cudzMub3JnLzIwMDAvc3ZnIiB4bWxuczp4bGluaz0iaHR0cDovL3d3dy53My5vcmcvMTk5OS94bGluayI+CiAgICA8IS0tIEdlbmVyYXRvcjogU2tldGNoIDU0LjEgKDc2NDkwKSAtIGh0dHBzOi8vc2tldGNoYXBwLmNvbSAtLT4KICAgIDx0aXRsZT5Hcm91cCAzPC90aXRsZT4KICAgIDxkZXNjPkNyZWF0ZWQgd2l0aCBTa2V0Y2guPC9kZXNjPgogICAgPGcgaWQ9IkxhbmRpbmciIHN0cm9rZT0ibm9uZSIgc3Ryb2tlLXdpZHRoPSIxIiBmaWxsPSJub25lIiBmaWxsLXJ1bGU9ImV2ZW5vZGQiPgogICAgICAgIDxnIGlkPSJBcnRib2FyZCIgdHJhbnNmb3JtPSJ0cmFuc2xhdGUoLTEyMzUuMDAwMDAwLCAtNzkuMDAwMDAwKSI+CiAgICAgICAgICAgIDxnIGlkPSJHcm91cC0zIiB0cmFuc2Zvcm09InRyYW5zbGF0ZSgxMjM1LjAwMDAwMCwgNzkuMDAwMDAwKSI+CiAgICAgICAgICAgICAgICA8cG9seWdvbiBpZD0iUGF0aC0yMCIgZmlsbD0iIzAyNjVCNCIgcG9pbnRzPSIyLjM3NjIzNzYyIDgwIDM4LjA0NzY2NjcgODAgNTcuODIxNzgyMiA3My44MDU3NTkyIDU3LjgyMTc4MjIgMzIuNzU5MjczOSAzOS4xNDAyMjc4IDMxLjY4MzE2ODMiPjwvcG9seWdvbj4KICAgICAgICAgICAgICAgIDxwYXRoIGQ9Ik0zNS4wMDc3MTgsODAgQzQyLjkwNjIwMDcsNzYuNDU0OTM1OCA0Ny41NjQ5MTY3LDcxLjU0MjI2NzEgNDguOTgzODY2LDY1LjI2MTk5MzkgQzUxLjExMjI4OTksNTUuODQxNTg0MiA0MS42NzcxNzk1LDQ5LjIxMjIyODQgMjUuNjIzOTg0Niw0OS4yMTIyMjg0IEMyNS40ODQ5Mjg5LDQ5LjEyNjg0NDggMjkuODI2MTI5Niw0My4yODM4MjQ4IDM4LjY0NzU4NjksMzEuNjgzMTY4MyBMNzIuODcxMjg3MSwzMi41NTQ0MjUgTDY1LjI4MDk3Myw2Ny42NzYzNDIxIEw1MS4xMTIyODk5LDc3LjM3NjE0NCBMMzUuMDA3NzE4LDgwIFoiIGlkPSJQYXRoLTIyIiBmaWxsPSIjMDAyODY4Ij48L3BhdGg+CiAgICAgICAgICAgICAgICA8cGF0aCBkPSJNMCwzNy43MzA0NDA1IEwyNy4xMTQ1MzcsMC4yNTcxMTE0MzYgQzYyLjM3MTUxMjMsLTEuOTkwNzE3MDEgODAsMTAuNTAwMzkyNyA4MCwzNy43MzA0NDA1IEM4MCw2NC45NjA0ODgyIDY0Ljc3NjUwMzgsNzkuMDUwMzQxNCAzNC4zMjk1MTEzLDgwIEM0Ny4wNTUzNDg5LDc3LjU2NzA4MDggNTMuNDE4MjY3Nyw3MC4zMTM2MTAzIDUzLjQxODI2NzcsNTguMjM5NTg4NSBDNTMuNDE4MjY3Nyw0MC4xMjg1NTU3IDM2LjMwMzk1NDQsMzcuNzMwNDQwNSAyNS4yMjc0MTcsMzcuNzMwNDQwNSBDMTcuODQzMDU4NiwzNy43MzA0NDA1IDkuNDMzOTE5NjYsMzcuNzMwNDQwNSAwLDM3LjczMDQ0MDUgWiIgaWQ9IlBhdGgtMTkiIGZpbGw9IiMzNzkzRUYiPjwvcGF0aD4KICAgICAgICAgICAgPC9nPgogICAgICAgIDwvZz4KICAgIDwvZz4KPC9zdmc+' > </img>\n",
    "Created in <span style='font-weight:600;margin-left:4px;'>Deepnote</span></a>"
   ]
  }
 ],
 "metadata": {
  "celltoolbar": "Slideshow",
  "deepnote": {
   "is_reactive": false
  },
  "deepnote_execution_queue": [],
  "deepnote_notebook_id": "e1fa669d-2566-4c9e-b88e-841783e95ff1",
  "kernelspec": {
   "display_name": "Python 3",
   "language": "python",
   "name": "python3"
  },
  "language_info": {
   "codemirror_mode": {
    "name": "ipython",
    "version": 3
   },
   "file_extension": ".py",
   "mimetype": "text/x-python",
   "name": "python",
   "nbconvert_exporter": "python",
   "pygments_lexer": "ipython3",
   "version": "3.6.12"
  }
 },
 "nbformat": 4,
 "nbformat_minor": 2
}
